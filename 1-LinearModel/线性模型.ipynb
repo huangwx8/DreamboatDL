{
 "cells": [
  {
   "cell_type": "markdown",
   "metadata": {},
   "source": [
    "### Mni-Batch\n",
    "使用批量梯度下降算法是数据量较大时一种比较快速的计算和训练方法, 我们上面神经网络的主要计算过程都是矩阵W和向量x的乘法运算, 如果我们把多个列向量x排成矩阵, 运算就变成矩阵乘矩阵. 矩阵和矩阵的计算比起矩阵和向量进行多次计算更为有效率. 在对拥有k个列向量的矩阵X前向传播计算梯度时, 我们对每个单独的向量x对应的dW和db求和, 就能一次性更新k步. \n",
    "### SGD with moentum\n",
    "我们优化神经网络的一种有效方法是使用带动量的随机梯度下降，每次参数更新不是完全用当前的梯度，而是基于原本的下降方向作出调整。这样可以确定一个比较稳定的下降方向，本质上是共轭梯度法的简化版本。共轭梯度法希望通过方向修正，让所有的下降方向尽可能正交。而如果我们把修正系数设为常数，就是SGD with moentum算法。\n",
    "$$ d \\leftarrow \\beta d+(1-\\beta)\\frac{\\partial L}{\\partial W}$$\n",
    "$$ W \\leftarrow W-\\alpha d $$\n",
    "### Affine \n",
    "$$ forward\\  rule\\qquad y = xW+b $$\n",
    "$$ W\\ backward\\  rule\\qquad \\frac{\\partial L}{\\partial W} = x^T\\frac{\\partial L}{\\partial y} $$\n",
    "$$ b\\ backward\\  rule\\qquad \\frac{\\partial L}{\\partial b} = SUMROW \\frac{\\partial L}{\\partial y} $$\n",
    "$$ x\\ backward\\  rule\\qquad \\frac{\\partial L}{\\partial x} = \\frac{\\partial L}{\\partial y} W^T $$"
   ]
  },
  {
   "cell_type": "code",
   "execution_count": 1,
   "metadata": {
    "ExecuteTime": {
     "end_time": "2020-08-11T05:24:56.274285Z",
     "start_time": "2020-08-11T05:24:56.001264Z"
    }
   },
   "outputs": [],
   "source": [
    "import numpy as np\n",
    "import matplotlib.pyplot as plt\n",
    "import os\n",
    "path = os.getcwd()\n",
    "os.chdir('..')\n",
    "from deepnotes import *\n",
    "os.chdir(path)\n",
    "%matplotlib inline"
   ]
  },
  {
   "cell_type": "code",
   "execution_count": 2,
   "metadata": {
    "ExecuteTime": {
     "end_time": "2020-08-11T05:24:56.570685Z",
     "start_time": "2020-08-11T05:24:56.352518Z"
    }
   },
   "outputs": [
    {
     "data": {
      "text/plain": [
       "Text(0.5,1,'linear regression')"
      ]
     },
     "execution_count": 2,
     "metadata": {},
     "output_type": "execute_result"
    },
    {
     "data": {
      "image/png": "[encoded data removed]",
      "text/plain": [
       "<matplotlib.figure.Figure at 0x2c0e7cab5c0>"
      ]
     },
     "metadata": {
      "needs_background": "light"
     },
     "output_type": "display_data"
    }
   ],
   "source": [
    "x_train = np.array([[3.3], [4.4], [5.5], [6.71], [6.93], [4.168], \n",
    "                    [9.779], [6.182], [7.59], [2.167], [7.042], \n",
    "                    [10.791], [5.313], [7.997], [3.1]], dtype=np.float32)\n",
    "\n",
    "y_train = np.array([[1.7], [2.76], [2.09], [3.19], [1.694], [1.573], \n",
    "                    [3.366], [2.596], [2.53], [1.221], [2.827], \n",
    "                    [3.465], [1.65], [2.904], [1.3]], dtype=np.float32)\n",
    "\n",
    "model = Linear(1,1)\n",
    "loss_func = MSELoss()\n",
    "optimizer = SGD(0.1,0.9)\n",
    "optimizer.add_module(model)\n",
    "\n",
    "for t in range(1000):\n",
    "    y_hat = model(x_train)\n",
    "    loss,dy_hat = loss_func(y_hat,y_train)\n",
    "    model.zero_grad()\n",
    "    model.backward(dy_hat)\n",
    "    optimizer.step()\n",
    "    \n",
    "y_pred = model(x_train)\n",
    "plt.plot(x_train,y_pred)\n",
    "plt.scatter(x_train,y_train)\n",
    "plt.title('linear regression')"
   ]
  },
  {
   "cell_type": "markdown",
   "metadata": {},
   "source": [
    "### Softmax\n",
    "之前我们学习线性模型时，一般会构造多个判别器来实现多分类，但是神经网络有着更好的做法。我们知道神经网络允许多输出，那么能不能让神经网络直接输出每个类别的概率呢？答案是可以，为此我们要引入一个特殊的软化概率函数，以及BCEloss的原型，Cross Entropy Loss。  \n",
    "softmax是有限项离散概率分布的梯度对数归一化，也被称为归一化指数函数。softmax的计算如下$$ p_j = \\sigma(x)_j = \\frac{e^{x_j}}{\\sum_{i=1}^n e^{x_i}} $$\n",
    "函数的输入是从K个不同的线性函数得到的结果，而样本向量 x 属于第 j 个分类的概率为softmax的输出。它相当于让神经网络输出了一个离散条件概率分布\n",
    "$$ p(x\\ |inputs,w) $$\n",
    "即给定输入X和模型参数W下分类为z的概率，而我们在分类问题中希望优化的目标是:让训练集的真实条件概率分布和模型输出的概率分布尽可能相同。我们知道评估概率分布差异的方法是KL散度，而最优化KL散度的过程又可以简化为优化Cross Entropy的过程。离散概率分布的交叉熵写做\n",
    "$$  L(W) = -\\sum_{i=1}^{n}log(p(x^{(i)})_{y^{(i)}}) $$\n",
    "它是模型接收第i个训练集后，我们预期的正确分类的概率的负对数的加和平均。我们假设训练集是从p(x)的真实采样，则此方法获得的是真实交叉熵的蒙特卡洛估计。把softmax的输出代入，可以计算单个样本输入时，L(W)的导数。\n",
    "$$  L(W) = -log(p_y) $$\n",
    "$$ \\frac{\\partial{L}}{\\partial{p_i}} = -\\frac{1}{p_i} \\quad \\quad (i=y) \\quad (1)$$\n",
    "$$ \\frac{\\partial{L}}{\\partial{p_i}} = 0 \\quad \\quad (i\\neq y) \\quad (2)$$\n",
    "计算p_i关于x_j的偏导数，要分为i=j和i!=j讨论\n",
    "$$ \\frac{\\partial{p_i}}{\\partial{x_j}} = \\frac{-e^{x_i}e^{x_j}}{(\\sum_{k=1}^m e^{x_k})^2}=-p_i p_j \\quad \\quad (i\\neq j)  \\quad (3)$$\n",
    "$$ \\frac{\\partial{p_i}}{\\partial{x_i}} = \\frac{e^{x_i}\\sum_{k=1}^m e^{x_k}-(e^{x_i})^2}{(\\sum_{k=1}^m e^{x_k})^2}=p_i-p_i^2 \\quad \\quad (i = j)  \\quad (4)$$\n",
    "组合上式(1),(2),(3),(4)则能得到L关于x_j的偏导数。\n",
    "$$ \\frac{\\partial{L}}{\\partial{x_j}} = \\frac{\\partial{L}}{\\partial{p_y}} \\frac{\\partial{p_y}}{\\partial{x_j}}$$\n",
    "$$ \\frac{\\partial{L}}{\\partial{x_j}} = -\\frac{1}{p_y}(-p_y p_j)=p_j  \\quad \\quad (y \\neq j) $$\n",
    "$$ \\frac{\\partial{L}}{\\partial{x_j}} = -\\frac{1}{p_y}(p_j-p_j^2)=p_j-1 \\quad \\quad (y = j)$$\n",
    "如果把标签写成one hot的向量，即正确标签为1，错误标签为0，就能给出非常简单的向量梯度形式\n",
    "$$ \\frac{\\partial{L}}{\\partial{x}} = p-one\\_hot\\_labels $$\n",
    "我们实现一个结合softmax和交叉熵的层，就可以直接计算损失和进行反向传播，这样就能训练多分类任务的神经网络了。"
   ]
  },
  {
   "cell_type": "markdown",
   "metadata": {},
   "source": [
    "### MNIST图像分类\n",
    "一个经典的图像识别任务是分类MNIST的10种手写数字的图像，这里搭建linear+relu的神经网络实现之"
   ]
  },
  {
   "cell_type": "code",
   "execution_count": 3,
   "metadata": {
    "ExecuteTime": {
     "end_time": "2020-08-11T05:25:00.360925Z",
     "start_time": "2020-08-11T05:24:57.650360Z"
    }
   },
   "outputs": [
    {
     "name": "stderr",
     "output_type": "stream",
     "text": [
      "C:\\anaconda\\lib\\site-packages\\h5py\\__init__.py:36: FutureWarning: Conversion of the second argument of issubdtype from `float` to `np.floating` is deprecated. In future, it will be treated as `np.float64 == np.dtype(float).type`.\n",
      "  from ._conv import register_converters as _register_converters\n"
     ]
    }
   ],
   "source": [
    "import tensorflow as tf\n",
    "\n",
    "# load mnist dataset\n",
    "(x_train_origin,t_train_origin),(x_test_origin,t_test_origin) = tf.keras.datasets.mnist.load_data()\n",
    "\n",
    "# batch data loader\n",
    "X_train,X_test = x_train_origin/255.,x_test_origin/255.\n",
    "batch_size = 100\n",
    "\n",
    "train_loader = DataLoader(X_train,t_train_origin,batch_size)\n",
    "test_loader = DataLoader(X_test,t_test_origin,batch_size)"
   ]
  },
  {
   "cell_type": "code",
   "execution_count": 4,
   "metadata": {
    "ExecuteTime": {
     "end_time": "2020-08-11T05:25:02.891068Z",
     "start_time": "2020-08-11T05:25:01.175989Z"
    }
   },
   "outputs": [
    {
     "name": "stdout",
     "output_type": "stream",
     "text": [
      "Epoch [1/5], Step [100/600], Loss: 1.3284\n",
      "Epoch [1/5], Step [200/600], Loss: 0.6981\n",
      "Epoch [1/5], Step [300/600], Loss: 0.5365\n",
      "Epoch [1/5], Step [400/600], Loss: 0.4916\n",
      "Epoch [1/5], Step [500/600], Loss: 0.4466\n",
      "Epoch [1/5], Step [600/600], Loss: 0.3707\n",
      "Epoch [2/5], Step [100/600], Loss: 0.3734\n",
      "Epoch [2/5], Step [200/600], Loss: 0.3809\n",
      "Epoch [2/5], Step [300/600], Loss: 0.3575\n",
      "Epoch [2/5], Step [400/600], Loss: 0.3667\n",
      "Epoch [2/5], Step [500/600], Loss: 0.3560\n",
      "Epoch [2/5], Step [600/600], Loss: 0.3065\n",
      "Epoch [3/5], Step [100/600], Loss: 0.3172\n",
      "Epoch [3/5], Step [200/600], Loss: 0.3314\n",
      "Epoch [3/5], Step [300/600], Loss: 0.3178\n",
      "Epoch [3/5], Step [400/600], Loss: 0.3313\n",
      "Epoch [3/5], Step [500/600], Loss: 0.3260\n",
      "Epoch [3/5], Step [600/600], Loss: 0.2823\n",
      "Epoch [4/5], Step [100/600], Loss: 0.2939\n",
      "Epoch [4/5], Step [200/600], Loss: 0.3094\n",
      "Epoch [4/5], Step [300/600], Loss: 0.2994\n",
      "Epoch [4/5], Step [400/600], Loss: 0.3135\n",
      "Epoch [4/5], Step [500/600], Loss: 0.3104\n",
      "Epoch [4/5], Step [600/600], Loss: 0.2687\n",
      "Epoch [5/5], Step [100/600], Loss: 0.2805\n",
      "Epoch [5/5], Step [200/600], Loss: 0.2965\n",
      "Epoch [5/5], Step [300/600], Loss: 0.2885\n",
      "Epoch [5/5], Step [400/600], Loss: 0.3024\n",
      "Epoch [5/5], Step [500/600], Loss: 0.3006\n",
      "Epoch [5/5], Step [600/600], Loss: 0.2596\n"
     ]
    },
    {
     "data": {
      "text/plain": [
       "Text(0.5,1,'train loss (Cross Entropy)')"
      ]
     },
     "execution_count": 4,
     "metadata": {},
     "output_type": "execute_result"
    },
    {
     "data": {
      "image/png": "[encoded data removed]",
      "text/plain": [
       "<matplotlib.figure.Figure at 0x2c0e7cbcfd0>"
      ]
     },
     "metadata": {
      "needs_background": "light"
     },
     "output_type": "display_data"
    }
   ],
   "source": [
    "num_epochs = 5\n",
    "total_step = len(train_loader)\n",
    "\n",
    "model = Linear(28*28,10)\n",
    "loss_func = CrossEntropyLossWithSoftMax(10)\n",
    "optimizer = Adam(0.001)\n",
    "optimizer.add_module(model)\n",
    "\n",
    "loss_list = []\n",
    "log_step = 100 \n",
    "\n",
    "for epoch in range(num_epochs):\n",
    "    running_loss = 0.\n",
    "    for i in range(total_step):\n",
    "        x,y = train_loader.get_batch()\n",
    "        x = x.reshape(x.shape[0],-1)\n",
    "        # Forward pass\n",
    "        logits = model(x)\n",
    "        # calculate loss\n",
    "        loss,dlogits = loss_func(logits,y)\n",
    "        # Backward\n",
    "        model.zero_grad()\n",
    "        model.backward(dlogits)\n",
    "        # optimize\n",
    "        optimizer.step()\n",
    "        \n",
    "        running_loss += loss.item()\n",
    "        \n",
    "        if (i+1) % log_step == 0:\n",
    "            running_loss/=log_step\n",
    "            print ('Epoch [{}/{}], Step [{}/{}], Loss: {:.4f}' \n",
    "                   .format(epoch+1, num_epochs, i+1, total_step, running_loss))\n",
    "            loss_list.append(running_loss)\n",
    "            running_loss = 0.\n",
    "\n",
    "plt.plot(loss_list)\n",
    "plt.title('train loss (Cross Entropy)')"
   ]
  },
  {
   "cell_type": "code",
   "execution_count": 5,
   "metadata": {
    "ExecuteTime": {
     "end_time": "2020-08-11T05:25:04.170813Z",
     "start_time": "2020-08-11T05:25:04.150760Z"
    }
   },
   "outputs": [
    {
     "name": "stdout",
     "output_type": "stream",
     "text": [
      "Accuracy of the network on the 10000 test images: 92.16 %\n"
     ]
    }
   ],
   "source": [
    "correct = 0\n",
    "total = 0\n",
    "\n",
    "for i in range(len(test_loader)):\n",
    "    x,y = test_loader.get_batch()\n",
    "    x = x.reshape(x.shape[0],-1)\n",
    "    outputs = model(x)\n",
    "    predicted = np.argmax(outputs, axis = 1)\n",
    "    total += y.shape[0]\n",
    "    correct += (predicted == y).sum()\n",
    "    \n",
    "print('Accuracy of the network on the 10000 test images: %.2f %%'%(100 * correct / total))"
   ]
  },
  {
   "cell_type": "code",
   "execution_count": null,
   "metadata": {},
   "outputs": [],
   "source": []
  }
 ],
 "metadata": {
  "kernelspec": {
   "display_name": "Python 3",
   "language": "python",
   "name": "python3"
  },
  "language_info": {
   "codemirror_mode": {
    "name": "ipython",
    "version": 3
   },
   "file_extension": ".py",
   "mimetype": "text/x-python",
   "name": "python",
   "nbconvert_exporter": "python",
   "pygments_lexer": "ipython3",
   "version": "3.6.4"
  }
 },
 "nbformat": 4,
 "nbformat_minor": 2
}
