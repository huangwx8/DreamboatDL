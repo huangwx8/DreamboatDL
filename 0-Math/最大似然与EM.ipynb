{
 "cells": [
  {
   "cell_type": "markdown",
   "metadata": {},
   "source": [
    "### 概率模型的参数\n",
    "概率论中用来逼近一个真实数据分布的基础数据分布有很多，最基础的有均匀分布，指数分布和正态分布。这个的基础性和初等函数相当，那么现在我们有了数据集$X=\\{x_1,x_2,...,x_n\\}$和概率分布$P(x|\\theta)$，如何从数据集中推理出最合适的参数呢?  \n",
    "比如对一个离散事件，如果我们投掷1000次硬币，700次为正300次为反，我们就会认为这个离散的概率分布满足P(x=1) = 0.7，P(x=0) = 0.3，这个过程其实就是由统计数据得到的离散概率分布的参数值的过程。如果是连续的概率分布，我们可以优化一个连续的目标函数。事实上我们要优化的目标函数是\n",
    "$$ \\hat L = P(x_1|\\theta)P(x_2|\\theta)...P(x_n|\\theta) $$\n",
    "概率连乘可能造成浮点数精度下溢，我们一般会转换它为对数形式处理\n",
    "$$ L = log\\hat L = log(P(x_1|\\theta)P(x_2|\\theta)...P(x_n|\\theta)) $$\n",
    "我们的目的就是最大化这个对数似然函数\n",
    "$$ maximize_{\\theta}\\quad L $$\n",
    "我们把上面的投硬币事件写出对数似然函数\n",
    "$$ L(\\theta) = log(p^{700}(1-p)^{300}) = 700log(p)+300log(1-p) $$\n",
    "我们计算它对theta的导数，并让它等于0就得到目标参数满足的等式\n",
    "$$ \\frac{dL}{d\\theta} = \\frac{700}{p}+\\frac{300}{p-1} = 0 $$\n",
    "$$ 700(p-1)+300p = 0\\rightarrow 1000p = 700\\rightarrow p = 0.7 $$"
   ]
  },
  {
   "cell_type": "markdown",
   "metadata": {},
   "source": [
    "### 正态分布\n",
    "也叫高斯分布，是我们最常用于逼近数据分布的基本分布，一维的高斯分布写做\n",
    "$$ P(x) = \\frac{1}{\\sqrt{2\\pi}\\sigma}e^{-\\frac{(x-\\mu)^2}{2\\sigma^2}} $$\n",
    "我们同样写出它的对数似然函数，并最大化它寻找最优参数\n",
    "$$ L = -Nlog(\\sqrt{2\\pi})-Nlog(\\sigma)-\\sum_i^N \\frac{(x_i-\\mu)^2} {2\\sigma^2}$$\n",
    "求偏导等于0\n",
    "$$ \\frac{\\partial L} {\\partial\\mu} = -\\sum_i^N \\frac{(x_i-\\mu)} {\\sigma^2} = 0 $$\n",
    "$$ \\mu = \\frac{\\sum_i^N x_i} {N} $$\n",
    "$$ \\frac{\\partial L} {\\partial \\sigma} = -\\frac{N}{\\sigma}+\\sum_i^N \\frac{2(x_i-\\mu)^2} {\\sigma^3} = 0 $$\n",
    "$$ \\sigma^2 = \\frac{\\sum_i^N(x_i-\\mu)^2} {N} $$"
   ]
  },
  {
   "cell_type": "markdown",
   "metadata": {},
   "source": [
    "### EM算法\n",
    "上面的例子都比较简单，写出似然函数就能直接计算出参数的解析解。但有些时候模型会比上面的复杂得多，概率模型计算概率时不但受模型参数影响，也受隐变量影响，即对第i个样本计算概率时是$P(x_i,z_i|\\theta)$，其中$z$是隐变量。一旦参数变多，尤其是有隐变量存在时，上面的直接计算似然偏导的方法就很不可行。在优化$\\theta$时，我们的目标函数需要是$P(x|\\theta)=\\sum_{z_i}P(x_i,z_i|\\theta)$。因为$z$和$\\theta$一般会出现在同一个式子中，以乘积或嵌套函数的形式形成高度非线性的方程组。这时我们需要求解非线性方程组的解，难度极大。我们这时会使用迭代解法来帮助求解，为了不让z影响计算，我们把x的边缘概率来化简\n",
    "$$ \\sum_i^mlogP(x_i|\\theta)=\\sum_i^mlog\\sum_{z_i}P(x_i,z_i|\\theta)=\\sum_i^mlog\\sum_{z_i}Q_i(z_i)\\frac{P(x_i,z_i|\\theta)}{Q_i(z_i)}\\ge \\quad\\sum_i^m\\sum_{z_i}Q_i(z_i)log\\frac{P(x_i,z_i|\\theta)}{Q_i(z_i)}$$\n",
    "不等式那一步是Jensen不等式，期望的对数大于等于对数的期望。同时我们引入了z的分布Q，借助上式，我们就不必直接优化边缘概率，而可以优化边缘概率的下界。这个Q是什么呢?Jensen不等式的等号成立条件是，随机变量为常数，即\n",
    "$$ \\frac{P(x_i,z_i|\\theta)} {Q_i(x_i)} = c \\rightarrow P(x_i,z_i|\\theta) = cQ_i(x_i)$$\n",
    "又因为两者都是关于z的分布，有$$ c = \\frac{\\sum_z P(x_i,z_i|\\theta)}{\\sum_z Q_i(x_i)}  = \\sum_z P(x_i,z_i|\\theta) $$\n",
    "$$Q_i(z_i) = \\frac{P(x_i,z_i|\\theta)} {\\sum_z P(x_i,z_i|\\theta)} = P(z_i|x_i,\\theta) $$\n",
    "Q可以被给出是已知样本和模型参数下的隐变量分布。它在离散z值域和给定的模型参数和样本下可以写做常数。然后我们把这个Q代入目标函数的下界，就得到$$ argmax_\\theta \\sum_i^m\\sum_{z_i}Q_i(z_i)logP(x_i,z_i|\\theta) $$\n",
    "上面的整套过程，就是EM算法。当我们遇到不容易计算的最大似然问题，都可以用EM算法进行迭代求解。首先我们随机初始化一组z和theta，然后  \n",
    "E step: 计算条件概率期望Q\n",
    "$$Q_i(z_i) = P(z_i|x_i,\\theta) $$\n",
    "M step: 极大化\n",
    "$$ \\theta = argmax_\\theta \\sum_i^m\\sum_{z_i}Q_i(z_i)logP(x_i,z_i|\\theta) $$\n",
    "重复EM步骤直到收敛。"
   ]
  },
  {
   "cell_type": "markdown",
   "metadata": {},
   "source": [
    "### 应用:估计双高斯分布的参数\n",
    "现在我们得到了一个学校的学生的身高分布，但是这个分布是双峰的，因为男生和女生的身高是不同的两个正态分布。现在我们希望从这个数据中推导出两个正态分布的参数。  \n",
    "首先，两个一维高斯分布的混合，为了满足概率密度函数的归一化条件，它们要乘以一个常数权重。$$ P(x_i|\\theta) = \\alpha N(x_i|\\mu_1,\\sigma_1)+(1-\\alpha)N(x_i|\\mu_2,\\sigma_2) $$\n",
    "对数似然\n",
    "$$ L = \\sum_i^nlogP(x_i|\\theta) = \\sum_i^nlog(\\alpha N(x_i|\\mu_1,\\sigma_1)+(1-\\alpha)N(x_i|\\mu_2,\\sigma_2)) $$\n",
    "我们对5个参数计算偏导，有\n",
    "$$ \\frac{\\partial L} {\\partial \\mu_1} = \\sum_i^N \\frac{\\alpha N(x_i|\\mu_1,\\sigma_1)(x_i-\\mu_1)}{(\\alpha N(x_i|\\mu_1,\\sigma_1)+(1-\\alpha)N(x_i|\\mu_2,\\sigma_2)} = 0 $$\n",
    "$$ \\frac{\\partial L} {\\partial \\mu_2} = \\sum_i^N \\frac{(1-\\alpha) N(x_i|\\mu_2,\\sigma_2)(x_i-\\mu_2)}{(\\alpha N(x_i|\\mu_1,\\sigma_1)+(1-\\alpha)N(x_i|\\mu_2,\\sigma_2)} = 0 $$\n",
    "$$ \\frac{\\partial L} {\\partial \\sigma_1} = \\sum_i^N(-\\frac{1}{\\sqrt{2\\pi}\\sigma_1^2}+\\frac{(x_i-\\mu_1)^2}{\\sqrt{2\\pi}\\sigma_1^4})(\\frac{\\alpha N(x_i|\\mu_1,\\sigma_1)}{(\\alpha N(x_i|\\mu_1,\\sigma_1)+(1-\\alpha)N(x_i|\\mu_2,\\sigma_2)})=0$$\n",
    "$$ \\frac{\\partial L} {\\partial \\sigma_2} = \\sum_i^N(-\\frac{1}{\\sqrt{2\\pi}\\sigma_2^2}+\\frac{(x_i-\\mu_2)^2}{\\sqrt{2\\pi}\\sigma_2^4})(\\frac{(1-\\alpha)N(x_i|\\mu_2,\\sigma_2)}{(\\alpha N(x_i|\\mu_1,\\sigma_1)+(1-\\alpha)N(x_i|\\mu_2,\\sigma_2)})=0$$\n",
    "$$ \\frac{\\partial L} {\\partial \\alpha} = \\sum_i^N\\frac{N(x_i|\\mu_1,\\sigma_1)-N(x_i|\\mu_2,\\sigma_2)}{(\\alpha N(x_i|\\mu_1,\\sigma_1)+(1-\\alpha)N(x_i|\\mu_2,\\sigma_2)}=0 $$"
   ]
  },
  {
   "cell_type": "markdown",
   "metadata": {},
   "source": [
    "第五个式子可以做一些变形\n",
    "$$ \\sum_i^N\\frac{\\alpha N(x_i|\\mu_1,\\sigma_1)-\\alpha N(x_i|\\mu_2,\\sigma_2)}{(\\alpha N(x_i|\\mu_1,\\sigma_1)+(1-\\alpha)N(x_i|\\mu_2,\\sigma_2)} = 0 $$\n",
    "$$ \\sum_i^N\\frac{\\alpha N(x_i|\\mu_1,\\sigma_1)+(1-\\alpha) N(x_i|\\mu_2,\\sigma_2)}{(\\alpha N(x_i|\\mu_1,\\sigma_1)+(1-\\alpha)N(x_i|\\mu_2,\\sigma_2)}=\\sum_i^N\\frac{N(x_i|\\mu_2,\\sigma_2)}{(\\alpha N(x_i|\\mu_1,\\sigma_1)+(1-\\alpha)N(x_i|\\mu_2,\\sigma_2)} = N $$\n",
    "可以看见上面的式子中都牵涉了一项$\\frac{(1-\\alpha)N(x_i|\\mu_2,\\sigma_2)}{(\\alpha N(x_i|\\mu_1,\\sigma_1)+(1-\\alpha)N(x_i|\\mu_2,\\sigma_2)}$，我们把它当作隐变量处理，就能用EM算法处理这个问题。  \n",
    "E步\n",
    "$$ Q_1(z_i) = \\frac{\\alpha N(x_i|\\mu_1,\\sigma_1)}{\\alpha N(x_i|\\mu_1,\\sigma_1)+(1-\\alpha)N(x_i|\\mu_2,\\sigma_2)} $$\n",
    "$$ Q_2(z_i) = \\frac{(1-\\alpha)N(x_i|\\mu_2,\\sigma_2)}{\\alpha N(x_i|\\mu_1,\\sigma_1)+(1-\\alpha)N(x_i|\\mu_2,\\sigma_2)} $$\n",
    "M步  \n",
    "$$ \\mu_1 = \\frac{\\sum_i^N Q_1(z_i)x_i}{\\sum_i^N Q_1(z_i)} $$\n",
    "$$ \\mu_2 = \\frac{\\sum_i^N Q_2(z_i)x_i}{\\sum_i^N Q_2(z_i)} $$\n",
    "$$ \\sigma_1^2 = \\frac{\\sum_i^NQ_1(z_i)(x_i-\\mu_1)^2}{\\sum_i^NQ_1}$$\n",
    "$$ \\sigma_2^2 = \\frac{\\sum_i^NQ_2(z_i)(x_i-\\mu_2)^2}{\\sum_i^NQ_2}$$\n",
    "$$ \\alpha = \\frac{\\sum_i^N Q_1(z_i)}{N} $$\n",
    "迭代进行就能同时估计出两个高斯分布的均值方差和alpha权值。"
   ]
  },
  {
   "cell_type": "code",
   "execution_count": 1,
   "metadata": {
    "ExecuteTime": {
     "end_time": "2020-05-04T09:26:40.777467Z",
     "start_time": "2020-05-04T09:26:40.675587Z"
    }
   },
   "outputs": [],
   "source": [
    "import numpy as np\n",
    "\n",
    "boys = np.random.randn(60)*3+172\n",
    "girls = np.random.randn(40)*3+158"
   ]
  },
  {
   "cell_type": "code",
   "execution_count": 2,
   "metadata": {
    "ExecuteTime": {
     "end_time": "2020-05-04T09:26:41.238599Z",
     "start_time": "2020-05-04T09:26:41.234586Z"
    }
   },
   "outputs": [],
   "source": [
    "X = np.concatenate((boys,girls))\n",
    "np.random.shuffle(X)"
   ]
  },
  {
   "cell_type": "code",
   "execution_count": 3,
   "metadata": {
    "ExecuteTime": {
     "end_time": "2020-05-04T09:26:41.924480Z",
     "start_time": "2020-05-04T09:26:41.605453Z"
    }
   },
   "outputs": [],
   "source": [
    "import scipy.stats as stats\n",
    "\n",
    "# 初始迭代点\n",
    "alpha = 0.5\n",
    "means = np.array([140.,180.])\n",
    "variances = np.array([1.,1.])\n",
    "Q = np.zeros((2,100))\n",
    "\n",
    "\n",
    "# 按照上面的公式执行EM算法\n",
    "for iter in range(10):\n",
    "    # E步:计算Q值\n",
    "    probs0 = stats.norm.pdf(X,loc=means[0],scale=variances[0]**0.5)\n",
    "    probs1 = stats.norm.pdf(X,loc=means[1],scale=variances[1]**0.5)\n",
    "    Q[0] = alpha*probs0/(alpha*probs0+(1-alpha)*probs1)\n",
    "    Q[1] = (1-alpha)*probs1/(alpha*probs0+(1-alpha)*probs1)\n",
    "    # M步:更新alpha,means和variance\n",
    "    means[0] = (Q[0]*X).sum()/Q[0].sum()\n",
    "    means[1] = (Q[1]*X).sum()/Q[1].sum()\n",
    "    variances[0] = (Q[0]*(X-means[0])**2).sum()/Q[0].sum()\n",
    "    variances[1] = (Q[1]*(X-means[1])**2).sum()/Q[1].sum()\n",
    "    alpha = Q[0].sum()/len(X)"
   ]
  },
  {
   "cell_type": "code",
   "execution_count": 5,
   "metadata": {
    "ExecuteTime": {
     "end_time": "2020-05-04T09:26:48.922194Z",
     "start_time": "2020-05-04T09:26:48.798834Z"
    }
   },
   "outputs": [
    {
     "data": {
      "image/png": "[encoded data removed]",
      "text/plain": [
       "<matplotlib.figure.Figure at 0x21d766396a0>"
      ]
     },
     "metadata": {
      "needs_background": "light"
     },
     "output_type": "display_data"
    }
   ],
   "source": [
    "import seaborn as sns\n",
    "import matplotlib.pyplot as plt\n",
    "\n",
    "sns.kdeplot(X,shade=True)\n",
    "xx = np.linspace(140,190,100)\n",
    "plt.plot(xx,alpha*stats.norm.pdf(xx,loc=means[0],scale=variances[0]**0.5)+\\\n",
    "        (1-alpha)*stats.norm.pdf(xx,loc=means[1],scale=variances[1]**0.5),c='r')\n",
    "plt.show()"
   ]
  },
  {
   "cell_type": "code",
   "execution_count": null,
   "metadata": {},
   "outputs": [],
   "source": []
  }
 ],
 "metadata": {
  "kernelspec": {
   "display_name": "Python 3",
   "language": "python",
   "name": "python3"
  },
  "language_info": {
   "codemirror_mode": {
    "name": "ipython",
    "version": 3
   },
   "file_extension": ".py",
   "mimetype": "text/x-python",
   "name": "python",
   "nbconvert_exporter": "python",
   "pygments_lexer": "ipython3",
   "version": "3.6.4"
  }
 },
 "nbformat": 4,
 "nbformat_minor": 2
}
