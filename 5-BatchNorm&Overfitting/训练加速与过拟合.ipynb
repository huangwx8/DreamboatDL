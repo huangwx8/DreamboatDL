{
 "cells": [
  {
   "cell_type": "markdown",
   "metadata": {},
   "source": [
    "### 过拟合\n",
    "神经网络有着非常惊艳的拟合能力，上面我们已经看到了神经网络可以逼近函数和概率分布，实现多种有趣的任务。但是和上面的玩具数据集做出来的结果不同，神经网络在实际问题里非常有可能出现更为严重的过拟合。而除了上面的正则化方法以外，我们还有其他方法控制过拟合。  \n",
    "**Eealy Stop**  \n",
    "一种相当直觉的方法，但是经常能够凑效。我们在训练时用一个验证集辅助训练，一旦训练出现了让测试集loss下降的趋势就立刻停止训练。  \n",
    "**DropOut**  \n",
    "从模型融合中得到启发，做过Kaggle的人应该有经验，在模型和算法已经完善的末期，我们进一步提升正确率的方法就是在模型中引入随机因素，制造很多的模型形成委员会，用这个混合的模型进行任务决策。而神经网络自己本就是一个混合模型，如果我们使用dropout的技巧，即每次训练时，随机临时删除一些 神经元，它们将不在这次运算中发挥作用，同样也不会被更新。这样，一个神经网络就相当于多个小型神经网络的混合模型，这个方法在大型任务重常常很实用。  \n",
    "**更好的数据集**  \n",
    "更多更好的数据是防止过拟合的最好方法，即使没有更多的数据，我们也可以用一些技巧创造数据。这个做法在图像和语音领域尤其适用，我们可以随机对图片进行旋转，平移，加噪声，来获得更多更稳定的数据集。  \n",
    "**reinforcement**\n",
    "强化学习是一种特殊的方法，它基于模型的对抗进行。在对弈和决策问题里，我们可以通过模型对抗的方式让模型自行学习，从而获得超越数据集的成效。最好的例子就是击败人类的alphago。\n",
    "### Dropout\n",
    "网络过于习惯训练集的数据分布, 尤其是如果训练集规模还不够大时, 网络会出现严重的过拟合, 使得在训练集上的准确率非常高, 但是测试集上的准确率很低. 而且这个过程还不可逆, 一旦网络过拟合那网络就废了, 我们的努力全部木大.  \n",
    "神经网络中的一种有效的对抗过拟合的方法是dropout, 它基于模型融合的思想, 让当前隐层的一些神经元暂时死掉, 它的输出将是0 ,从而不对本次前向和反向传播产生任何影响. 这样做的好处是, 如果这样的模型仍然能被训练到收敛, 那么我们可以认为我们从隐层中抽取出一定比例的神经元也仍然是收敛的. 然而这样随机采样得到的很多小一些的子网络与子网络之间是有些微的差异的, 这些差异经过模型融合, 能让总网络变成一个不具有倾向性的模型(委员会思想). 从而模型的偏差可能会上升一些, 但是方差一般会降低更多.  \n",
    "![dropout.png](dropout.png)\n",
    "它的前向和反向传播非常简单, 我们只需要给定一个概率, 然后它就会生成一个mask把一定比例的x置零再输出. 反向传播时, 因为mask处的x被置零了, 就相当于点乘了一个0常数, 那么它的反向传播也是乘一个0, mask把对应位置的dz置零再反向传播.  "
   ]
  },
  {
   "cell_type": "markdown",
   "metadata": {},
   "source": [
    "### Batch-Normalization\n",
    "接下来我们要讲一下, 能让训练加速的一种技巧, 叫做batch norm. 相对于卷积和循环的网络, 这种技术的出现是2015年, 是很年轻的技术. 这种方法针对训练中(尤其是在深度网络里)遇到的困难提出一些解决方案, 之前我们的代码实践虽然是深度学习, 但并不算是非常deep的网络, 真正很深的大型网络在训练时会面临Internal Covariate Shift的问题. 简单来说, 我们的反向传播计算梯度是逐层进行的, 当我们更新了第l层的参数, 第l层的输出也会改变, 从概率的角度解释就是分布发生了改变. 这样l+1层就需要去适应新的输入分布, 这个过程需要时间. 可怕的是, 当网络很深时, 这个适应过程就会非常复杂且困难, 为了加速深度网络的训练, 有一种想法是, 我们人为地改变数据分布, 每一隐层无论何时, 分布都是相似的. 一种方法就是规范化方法, 我们把数据分布减去分布的均值再除以标准差, 这样分布就会被规约到和标准正态分布类似. 注意这里的规范化是对每一维度独立进行的, 而不是计算样本集的协方差矩阵, 那样会浪费大量算力.  \n",
    "$$ \\mu_j =  \\frac{1}{m}\\sum_{i=1}^m Z_{ji} $$\n",
    "$$ \\sigma_j^2 =  \\frac{1}{m}\\sum_{i=1}^m (Z_{ji}-\\mu_j)^2 $$\n",
    "$$ \\hat Z_{ji} = \\frac{Z_{ji}-\\mu_j}{\\sigma_j} $$\n",
    "这个做法当然是可以的, 我们在数据科学中使用的一种数据预处理方式就是这种Normalization. 在神经网络中当然也可以用, 而且很适合, 因为大多数我们用到的激活函数都是在输入x=0时斜率最大, 从而梯度最大, 学习速度最快. 如果我们把这种方法应用在隐层间, 就能解决上面Internal Covariate Shift的问题.  \n",
    "但是如果真的那么做, 会出现新的问题. 我们知道神经网络的一大特点就是越深层, 特征就越抽象. 最明显的例子是自编码器, 如果我们用自编码器处理MNIST数据, 并把隐层的特征在2D平面做可视化, 会看见不同类别的数据会被编码到独立的区域. 这就是深度的网络对数据处理后的结果. 但是这时我们用一个这样的norm处理它, 很大可能会把网络已经提取到的不同的特征再次混合在一起, 网络的表达能力遭到伤害. 那么要怎样既能保住底层网络学习到的参数信息, 又能修正数据分布, 方便网络训练呢?  \n",
    "BN的最大贡献就是这部分, 我们再次加入两个参数, 把数据分布再做一个一维线性变换, 把分布拉离0, 并修正方差. 也就是\n",
    "$$ y_{ji} = \\gamma_j\\hat Z_{ji} + \\beta_j $$\n",
    "相当于和上面的规范化相对的一种方法, 如果mu和beta相等, gamma和sigma相等, 这就是一个没有进行变换的变换. 通过上面的步骤，我们就在一定程度上保证了输入数据的表达能力.  有时我们会为了处理分母, 用一个eps来辅助运算, 总的运算方法如下.\n",
    "![batchnorm.png](batchnorm.png)\n",
    "### BN的BP\n",
    "这个过程的反向传播是怎么做的呢? 其实再怎么复杂也无非是代数求导, 只要有耐心推就怎么都推得出来. \n",
    "$$ \\frac{\\partial L}{\\partial \\beta_j} = SUMROW \\frac{\\partial L}{\\partial y_{ij}} $$\n",
    "$$ \\frac{\\partial L}{\\partial \\gamma_j} = SUMROW \\frac{\\partial L}{\\partial y_{ij}}*Z_{ij} $$\n",
    "$$ \\frac{\\partial L}{\\partial Z_{ij}} = \\gamma_j \\frac{\\partial L}{\\partial y_{ij}}\\frac{\\partial\\hat Z_{ij}}{\\partial Z_{ij}} $$\n",
    "下面的部分才比较复杂, 均值的偏导比较容易, 但是方差不但有分数形式还与均值有关, 我们分三步来看向量形式的求导\n",
    "![bn_bp0.PNG](bn_bp0.PNG)\n",
    "这里抄一张图, batchnorm的计算图展开, 可视化的计算可能会更为清晰\n",
    "![bn_bp.png](bn_bp.png)"
   ]
  },
  {
   "cell_type": "code",
   "execution_count": 1,
   "metadata": {
    "ExecuteTime": {
     "end_time": "2020-08-11T05:34:23.548567Z",
     "start_time": "2020-08-11T05:34:22.742924Z"
    }
   },
   "outputs": [],
   "source": [
    "import numpy as np\n",
    "import matplotlib.pyplot as plt\n",
    "import os\n",
    "path = os.getcwd()\n",
    "os.chdir('..')\n",
    "from deepnotes import *\n",
    "os.chdir(path)\n",
    "# 验算梯度用\n",
    "import torch\n",
    "import torch.nn as nn\n",
    "import torch.nn.functional as F"
   ]
  },
  {
   "cell_type": "code",
   "execution_count": 2,
   "metadata": {
    "ExecuteTime": {
     "end_time": "2020-08-11T05:34:24.582316Z",
     "start_time": "2020-08-11T05:34:23.619255Z"
    }
   },
   "outputs": [
    {
     "name": "stdout",
     "output_type": "stream",
     "text": [
      "output:\n",
      " tensor([[ 0.0965, -0.0521],\n",
      "        [ 1.1832,  0.1047],\n",
      "        [-1.8249, -0.1628],\n",
      "        [ 0.0361,  1.6289],\n",
      "        [ 0.5091, -1.5187]], grad_fn=<NativeBatchNormBackward>)\n",
      "weight grad:\n",
      " tensor([10.3113,  6.8323])\n",
      "bias grad:\n",
      " tensor([ 0.9334, -5.1370])\n",
      "x grad:\n",
      " tensor([[ 4.2760,  4.0436],\n",
      "        [-0.1107,  0.3687],\n",
      "        [-0.1849, -1.5179],\n",
      "        [-2.9751, -1.4204],\n",
      "        [-1.0053, -1.4741]])\n"
     ]
    }
   ],
   "source": [
    "bn_torch = torch.nn.BatchNorm1d(2)\n",
    "bn_torch.eps = 0\n",
    "bn_torch.momentum = 0\n",
    "bn_torch.train()\n",
    "\n",
    "x = torch.randn(5,2)\n",
    "target = torch.randn(5,2)\n",
    "x.requires_grad = True\n",
    "y = bn_torch(x)\n",
    "\n",
    "loss = F.mse_loss(y,target,reduction='sum')\n",
    "bn_torch.zero_grad()\n",
    "if x.grad:\n",
    "    x.grad.data.zero_()\n",
    "loss.backward()\n",
    "\n",
    "print(\"output:\\n\",y)\n",
    "print(\"weight grad:\\n\",bn_torch.weight.grad)\n",
    "print(\"bias grad:\\n\",bn_torch.bias.grad)\n",
    "print(\"x grad:\\n\",x.grad)"
   ]
  },
  {
   "cell_type": "code",
   "execution_count": 3,
   "metadata": {
    "ExecuteTime": {
     "end_time": "2020-08-11T05:34:25.244077Z",
     "start_time": "2020-08-11T05:34:25.226529Z"
    }
   },
   "outputs": [
    {
     "name": "stdout",
     "output_type": "stream",
     "text": [
      "output:\n",
      " [[ 0.09650204 -0.05210881]\n",
      " [ 1.1832237   0.10468968]\n",
      " [-1.8248808  -0.16284497]\n",
      " [ 0.03606102  1.6289374 ]\n",
      " [ 0.5090945  -1.5186734 ]]\n",
      "weight grad:\n",
      " [10.31134701  6.83230639]\n",
      "bias grad:\n",
      " [ 0.93340707 -5.13704538]\n",
      "x grad:\n",
      " [[ 4.2759824   4.043637  ]\n",
      " [-0.11070609  0.36869228]\n",
      " [-0.18490124 -1.5178801 ]\n",
      " [-2.975091   -1.4203757 ]\n",
      " [-1.0052843  -1.4740726 ]]\n"
     ]
    }
   ],
   "source": [
    "bn = BatchNorm(2)\n",
    "bn.weight = bn_torch.weight.data.numpy()\n",
    "bn.bias = bn_torch.bias.data.numpy()\n",
    "y = bn(x.data.numpy())\n",
    "dx = bn.backward((y-target.data.numpy())*2)\n",
    "\n",
    "print(\"output:\\n\",y)\n",
    "print(\"weight grad:\\n\",bn._dw)\n",
    "print(\"bias grad:\\n\",bn._db)\n",
    "print(\"x grad:\\n\",dx)"
   ]
  },
  {
   "cell_type": "markdown",
   "metadata": {},
   "source": [
    "### 工程细节\n",
    "在实际使用batch norm时, 深度学习框架通常会把模块定义成两个模式, 一个是训练模式一个是测试模式. 在训练时, 我们的BN层会不断吃数据, 并计算出一个对整个训练集而言的均值和方差, 在测试时, 我们会用这个均值和方差进行计算. 从而让训练时的局部性不会对测试产生影响. 具体到实现上就是train模式和eval模式.  \n",
    "再者就是上面提到的epsilon避免方差过小. 更新batch norm的方法是梯度下降, 我们计算出w和b的梯度后会用梯度优化方法优化参数, 这时pytorch还设置了动量, 避免w和b产生过大的更新. 从实践经验上来看, 这一点的帮助还是相当大的.  \n",
    "这里为了不大改框架，就只实现一个训练模式。事实上，训练模式完全可以用在测试模式里，只不过效果可能略逊一筹。"
   ]
  },
  {
   "cell_type": "code",
   "execution_count": 4,
   "metadata": {
    "ExecuteTime": {
     "end_time": "2020-08-11T05:34:34.889378Z",
     "start_time": "2020-08-11T05:34:30.750739Z"
    }
   },
   "outputs": [
    {
     "name": "stderr",
     "output_type": "stream",
     "text": [
      "C:\\anaconda\\lib\\site-packages\\h5py\\__init__.py:36: FutureWarning: Conversion of the second argument of issubdtype from `float` to `np.floating` is deprecated. In future, it will be treated as `np.float64 == np.dtype(float).type`.\n",
      "  from ._conv import register_converters as _register_converters\n"
     ]
    }
   ],
   "source": [
    "import tensorflow as tf\n",
    "# load mnist dataset\n",
    "(x_train_origin,t_train_origin),(x_test_origin,t_test_origin) = tf.keras.datasets.mnist.load_data()\n",
    "\n",
    "X_train,X_test = x_train_origin/255.,x_test_origin/255.\n",
    "batch_size = 100\n",
    "\n",
    "train_loader = DataLoader(X_train,t_train_origin,batch_size)\n",
    "test_loader = DataLoader(X_test,t_test_origin,batch_size)"
   ]
  },
  {
   "cell_type": "code",
   "execution_count": 5,
   "metadata": {
    "ExecuteTime": {
     "end_time": "2020-08-11T05:37:51.938886Z",
     "start_time": "2020-08-11T05:34:38.045561Z"
    }
   },
   "outputs": [
    {
     "name": "stdout",
     "output_type": "stream",
     "text": [
      "Epoch [1/5], Step [100/600], Loss: 0.5630\n",
      "Epoch [1/5], Step [200/600], Loss: 0.2306\n",
      "Epoch [1/5], Step [300/600], Loss: 0.1722\n",
      "Epoch [1/5], Step [400/600], Loss: 0.1585\n",
      "Epoch [1/5], Step [500/600], Loss: 0.1521\n",
      "Epoch [1/5], Step [600/600], Loss: 0.1143\n",
      "Epoch [2/5], Step [100/600], Loss: 0.0966\n",
      "Epoch [2/5], Step [200/600], Loss: 0.0759\n",
      "Epoch [2/5], Step [300/600], Loss: 0.0692\n",
      "Epoch [2/5], Step [400/600], Loss: 0.0630\n",
      "Epoch [2/5], Step [500/600], Loss: 0.0641\n",
      "Epoch [2/5], Step [600/600], Loss: 0.0501\n",
      "Epoch [3/5], Step [100/600], Loss: 0.0460\n",
      "Epoch [3/5], Step [200/600], Loss: 0.0348\n",
      "Epoch [3/5], Step [300/600], Loss: 0.0291\n",
      "Epoch [3/5], Step [400/600], Loss: 0.0328\n",
      "Epoch [3/5], Step [500/600], Loss: 0.0299\n",
      "Epoch [3/5], Step [600/600], Loss: 0.0239\n",
      "Epoch [4/5], Step [100/600], Loss: 0.0247\n",
      "Epoch [4/5], Step [200/600], Loss: 0.0184\n",
      "Epoch [4/5], Step [300/600], Loss: 0.0198\n",
      "Epoch [4/5], Step [400/600], Loss: 0.0217\n",
      "Epoch [4/5], Step [500/600], Loss: 0.0260\n",
      "Epoch [4/5], Step [600/600], Loss: 0.0279\n",
      "Epoch [5/5], Step [100/600], Loss: 0.0235\n",
      "Epoch [5/5], Step [200/600], Loss: 0.0225\n",
      "Epoch [5/5], Step [300/600], Loss: 0.0242\n",
      "Epoch [5/5], Step [400/600], Loss: 0.0234\n",
      "Epoch [5/5], Step [500/600], Loss: 0.0227\n",
      "Epoch [5/5], Step [600/600], Loss: 0.0171\n"
     ]
    },
    {
     "data": {
      "text/plain": [
       "Text(0.5,1,'Train loss(Cross Entropy)')"
      ]
     },
     "execution_count": 5,
     "metadata": {},
     "output_type": "execute_result"
    },
    {
     "data": {
      "image/png": "[encoded data removed]",
      "text/plain": [
       "<matplotlib.figure.Figure at 0x22d962b33c8>"
      ]
     },
     "metadata": {
      "needs_background": "light"
     },
     "output_type": "display_data"
    }
   ],
   "source": [
    "num_epochs = 5\n",
    "total_step = len(train_loader)\n",
    "\n",
    "model = Sequential(\n",
    "    Linear(28*28,512),\n",
    "    BatchNorm(512),\n",
    "    ReLU(),\n",
    "    Linear(512,256),\n",
    "    BatchNorm(256),\n",
    "    ReLU(),\n",
    "    Linear(256,128),\n",
    "    BatchNorm(128),\n",
    "    ReLU(),\n",
    "    Linear(128,64),\n",
    "    BatchNorm(64),\n",
    "    ReLU(),\n",
    "    Linear(64,10)\n",
    ")\n",
    "\n",
    "loss_func = CrossEntropyLossWithSoftMax(10)\n",
    "optimizer = Adam(0.001)\n",
    "model.apply_optim(optimizer)\n",
    "\n",
    "loss_list = []\n",
    "log_step = 100 \n",
    "\n",
    "for epoch in range(num_epochs):\n",
    "    running_loss = 0.\n",
    "    for i in range(total_step):\n",
    "        x,y = train_loader.get_batch()\n",
    "        x = x.reshape(x.shape[0],-1)\n",
    "        # Forward pass\n",
    "        logits = model(x)\n",
    "        # calculate loss\n",
    "        loss,dlogits = loss_func(logits,y)\n",
    "        # Backward\n",
    "        model.zero_grad()\n",
    "        model.backward(dlogits)\n",
    "        # optimize\n",
    "        optimizer.step()\n",
    "        \n",
    "        running_loss += loss.item()\n",
    "        \n",
    "        if (i+1) % log_step == 0:\n",
    "            running_loss/=log_step\n",
    "            print ('Epoch [{}/{}], Step [{}/{}], Loss: {:.4f}' \n",
    "                   .format(epoch+1, num_epochs, i+1, total_step, running_loss))\n",
    "            loss_list.append(running_loss)\n",
    "            running_loss = 0.\n",
    "\n",
    "plt.plot(loss_list)\n",
    "plt.title('Train loss(Cross Entropy)')"
   ]
  },
  {
   "cell_type": "code",
   "execution_count": 6,
   "metadata": {
    "ExecuteTime": {
     "end_time": "2020-08-11T05:37:54.968992Z",
     "start_time": "2020-08-11T05:37:54.361877Z"
    }
   },
   "outputs": [
    {
     "name": "stdout",
     "output_type": "stream",
     "text": [
      "Accuracy of the network on the 10000 test images: 96.98 %\n"
     ]
    }
   ],
   "source": [
    "correct = 0\n",
    "total = 0\n",
    "\n",
    "for i in range(len(test_loader)):\n",
    "    x,y = test_loader.get_batch()\n",
    "    x = x.reshape(x.shape[0],-1)\n",
    "    # Forward pass\n",
    "    outputs = model(x)\n",
    "    predicted = np.argmax(outputs, axis = 1)\n",
    "    total += y.shape[0]\n",
    "    correct += (predicted == y).sum()\n",
    "    \n",
    "print('Accuracy of the network on the 10000 test images: %.2f %%'%(100 * correct / total))"
   ]
  },
  {
   "cell_type": "code",
   "execution_count": null,
   "metadata": {},
   "outputs": [],
   "source": []
  }
 ],
 "metadata": {
  "kernelspec": {
   "display_name": "Python 3",
   "language": "python",
   "name": "python3"
  },
  "language_info": {
   "codemirror_mode": {
    "name": "ipython",
    "version": 3
   },
   "file_extension": ".py",
   "mimetype": "text/x-python",
   "name": "python",
   "nbconvert_exporter": "python",
   "pygments_lexer": "ipython3",
   "version": "3.6.4"
  }
 },
 "nbformat": 4,
 "nbformat_minor": 2
}
