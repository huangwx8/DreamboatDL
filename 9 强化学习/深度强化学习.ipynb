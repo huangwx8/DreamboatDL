{
 "cells": [
  {
   "cell_type": "code",
   "execution_count": 1,
   "metadata": {
    "ExecuteTime": {
     "end_time": "2020-08-11T06:01:50.163081Z",
     "start_time": "2020-08-11T06:01:49.665259Z"
    }
   },
   "outputs": [],
   "source": [
    "import gym\n",
    "import os\n",
    "path = os.getcwd()\n",
    "os.chdir('..')\n",
    "from deepnotes import *\n",
    "os.chdir(path)\n",
    "import numpy as np\n",
    "import random\n",
    "import matplotlib.pyplot as plt\n",
    "from collections import deque"
   ]
  },
  {
   "cell_type": "markdown",
   "metadata": {},
   "source": [
    "https://github.com/openai/gym/wiki/MountainCar-v0\n",
    "![state.PNG](state.PNG)\n",
    "![action.PNG](action.PNG)"
   ]
  },
  {
   "cell_type": "code",
   "execution_count": 2,
   "metadata": {
    "ExecuteTime": {
     "end_time": "2020-08-11T06:01:51.111198Z",
     "start_time": "2020-08-11T06:01:51.006921Z"
    }
   },
   "outputs": [],
   "source": [
    "ENV_NAME = 'MountainCar-v0'\n",
    "env = gym.make(ENV_NAME)"
   ]
  },
  {
   "cell_type": "code",
   "execution_count": 3,
   "metadata": {
    "ExecuteTime": {
     "end_time": "2020-08-11T06:01:51.831189Z",
     "start_time": "2020-08-11T06:01:51.823167Z"
    }
   },
   "outputs": [
    {
     "data": {
      "text/plain": [
       "Box(2,)"
      ]
     },
     "execution_count": 3,
     "metadata": {},
     "output_type": "execute_result"
    }
   ],
   "source": [
    "# 状态连续，包括小车的速度和小车的位置\n",
    "env.observation_space"
   ]
  },
  {
   "cell_type": "code",
   "execution_count": 4,
   "metadata": {
    "ExecuteTime": {
     "end_time": "2020-08-11T06:01:52.599310Z",
     "start_time": "2020-08-11T06:01:52.593292Z"
    }
   },
   "outputs": [
    {
     "data": {
      "text/plain": [
       "Discrete(3)"
      ]
     },
     "execution_count": 4,
     "metadata": {},
     "output_type": "execute_result"
    }
   ],
   "source": [
    "# 可行动作离散，有向左，向右施加力和不施加力3种\n",
    "env.action_space"
   ]
  },
  {
   "cell_type": "markdown",
   "metadata": {},
   "source": [
    "### Deep Q learning\n",
    "Q-learning中我们向着好的方向更新Q值。每个状态的更新公式都决定于该步action的奖赏和后续一个状态的Q值。\n",
    "$$ Q(x,a) = (1-\\alpha)Q(x,a)+\\alpha (R(x',a') + \\gamma Q(x',a')) $$\n",
    "使用神经网络来做deep的end to end Q学习时，这个问题就不是直接修改表，而是让模型做一个回归。回归使用的误差函数是MSE均方误差。就是把上面的公式计算出来的新Q值当作回归目标，计算网络输出和它的均方误差，然后用梯度方法更新一下就好了。  \n",
    "![DQL-optimize.png](DQL-optimize.png)"
   ]
  },
  {
   "cell_type": "code",
   "execution_count": 5,
   "metadata": {
    "ExecuteTime": {
     "end_time": "2020-08-11T06:01:57.965744Z",
     "start_time": "2020-08-11T06:01:57.867484Z"
    },
    "code_folding": []
   },
   "outputs": [],
   "source": [
    "action_num = 3\n",
    "\n",
    "class DQNAgent():\n",
    "    '''\n",
    "    我们的network会计算出当前状态下后续各动作的Q值\n",
    "    即Q(s,a) = nn(s)[a]。使用Q-learning时，我们使用\n",
    "    公式Q(s0,a) = r + gamma*max_i(Q(s1,a_i))更新nn\n",
    "    然后，使用eps贪心完成动作决策，更新环境\n",
    "    '''\n",
    "    def __init__(self, network, eps, gamma, lr):\n",
    "        self.network = network\n",
    "        self.eps = eps\n",
    "        self.gamma = gamma\n",
    "        self.optimizer = Adam(lr)\n",
    "        self.loss_func = MSELoss()\n",
    "        self.network.apply_optim(self.optimizer)\n",
    "\n",
    "    def learn(self, batch):\n",
    "        s0, a0, r1, s1, done = zip(*batch)\n",
    "        s0,a0,r1,s1 = np.array(s0),np.array(a0),np.array(r1),np.array(s1)\n",
    "        \n",
    "        n = len(s0)\n",
    "        \n",
    "        y_true = r1 + self.gamma * np.max(self.network(s1), axis=1)\n",
    "        y_true[done] = r1\n",
    "        y_pred = self.network(s0)\n",
    "        y_true_mat = y_pred.copy()\n",
    "        y_true_mat[range(n),a0] = y_true\n",
    "        self.network.zero_grad()\n",
    "        loss,dy = self.loss_func(y_pred,y_true_mat)\n",
    "        self.network.backward(dy)\n",
    "        self.optimizer.step()\n",
    "\n",
    "    def sample(self, state):\n",
    "        '''\n",
    "        epsilon探索选择下一个action\n",
    "        '''\n",
    "        state = state[np.newaxis,:]\n",
    "        action_value = self.network(state)\n",
    "        \n",
    "        if random.random()<self.eps:\n",
    "            return random.randint(0, action_num-1)\n",
    "        else:\n",
    "            max_action = np.argmax(action_value,axis=1)\n",
    "            return max_action.item()"
   ]
  },
  {
   "cell_type": "code",
   "execution_count": 6,
   "metadata": {
    "ExecuteTime": {
     "end_time": "2020-08-11T06:01:58.575365Z",
     "start_time": "2020-08-11T06:01:58.540773Z"
    }
   },
   "outputs": [],
   "source": [
    "def evaluate(agent, env, times):\n",
    "    '''\n",
    "    评估函数，使用两个指标，一个是agent在游戏中达到的最\n",
    "    远position，另一个是游戏时间。这个环境只有我们成功达到\n",
    "    position=0.5后才会停下来，否则就要至少等到200时间单位\n",
    "    因此时间应该越小越好，最远位置应越大越好\n",
    "    '''\n",
    "    score = 0.\n",
    "    avg_t = 0.\n",
    "    eps = agent.eps\n",
    "    agent.eps = 0\n",
    "    \n",
    "    for _ in range(times):\n",
    "        s = env.reset()\n",
    "        done = False\n",
    "        max_pos = -100\n",
    "        t = 0\n",
    "        \n",
    "        while not done:\n",
    "            t += 1\n",
    "            max_pos = max(s[0],max_pos)\n",
    "            a = agent.sample(s)\n",
    "            s,r,done,info = env.step(a)\n",
    "            if done:\n",
    "                score += max_pos\n",
    "                avg_t += t\n",
    "    \n",
    "    env.reset()\n",
    "    agent.eps = eps\n",
    "    return score/times,avg_t/times"
   ]
  },
  {
   "cell_type": "markdown",
   "metadata": {},
   "source": [
    "奖励函数的设计是Q-learning算法运行的关键。分析问题可以看出车的最优位置越右越好，到达最右的时间越早越好。位置域是[-1.2,0.6]，起始点在0.5附近，因此设置最终状态奖励为(max_pos+0.5)，即超过-0.5初始位置距离。"
   ]
  },
  {
   "cell_type": "code",
   "execution_count": 7,
   "metadata": {
    "ExecuteTime": {
     "end_time": "2020-08-11T06:03:25.523344Z",
     "start_time": "2020-08-11T06:01:59.619641Z"
    }
   },
   "outputs": [
    {
     "name": "stdout",
     "output_type": "stream",
     "text": [
      "Episode: 10, Score: -0.487, average time cost: 200.000\n",
      "Episode: 20, Score: -0.471, average time cost: 200.000\n",
      "Episode: 30, Score: -0.485, average time cost: 200.000\n",
      "Episode: 40, Score: -0.487, average time cost: 200.000\n",
      "Episode: 50, Score: -0.468, average time cost: 200.000\n",
      "Episode: 60, Score: -0.468, average time cost: 200.000\n",
      "Episode: 70, Score: -0.509, average time cost: 200.000\n",
      "Episode: 80, Score: 0.430, average time cost: 179.300\n",
      "Episode: 90, Score: -0.049, average time cost: 200.000\n",
      "Episode: 100, Score: 0.170, average time cost: 158.400\n",
      "Episode: 110, Score: -0.478, average time cost: 200.000\n",
      "Episode: 120, Score: -0.436, average time cost: 197.500\n",
      "Episode: 130, Score: 0.299, average time cost: 196.800\n",
      "Episode: 140, Score: 0.479, average time cost: 181.100\n",
      "Episode: 150, Score: 0.405, average time cost: 125.400\n",
      "Episode: 160, Score: 0.172, average time cost: 156.600\n",
      "Episode: 170, Score: 0.375, average time cost: 154.900\n",
      "Episode: 180, Score: -0.086, average time cost: 175.900\n",
      "Episode: 190, Score: 0.482, average time cost: 119.700\n",
      "Episode: 200, Score: 0.475, average time cost: 142.000\n",
      "Episode: 210, Score: -0.258, average time cost: 200.000\n",
      "Episode: 220, Score: -0.089, average time cost: 181.900\n",
      "Episode: 230, Score: 0.487, average time cost: 135.300\n",
      "Episode: 240, Score: -0.237, average time cost: 194.300\n",
      "Episode: 250, Score: 0.279, average time cost: 163.700\n",
      "Episode: 260, Score: -0.338, average time cost: 194.400\n",
      "Episode: 270, Score: -0.033, average time cost: 176.600\n",
      "Episode: 280, Score: 0.026, average time cost: 171.900\n",
      "Episode: 290, Score: 0.063, average time cost: 161.100\n",
      "Episode: 300, Score: 0.461, average time cost: 147.900\n",
      "Episode: 310, Score: 0.473, average time cost: 123.000\n",
      "Episode: 320, Score: 0.486, average time cost: 136.000\n",
      "Episode: 330, Score: 0.159, average time cost: 153.100\n",
      "Episode: 340, Score: 0.382, average time cost: 143.000\n",
      "Episode: 350, Score: 0.472, average time cost: 132.000\n",
      "Episode: 360, Score: 0.475, average time cost: 128.400\n",
      "Episode: 370, Score: 0.479, average time cost: 124.200\n",
      "Episode: 380, Score: 0.487, average time cost: 137.700\n",
      "Episode: 390, Score: 0.478, average time cost: 131.100\n",
      "Episode: 400, Score: 0.487, average time cost: 123.800\n",
      "Episode: 410, Score: 0.481, average time cost: 121.100\n",
      "Episode: 420, Score: 0.469, average time cost: 125.800\n",
      "Episode: 430, Score: -0.136, average time cost: 185.300\n",
      "Episode: 440, Score: 0.066, average time cost: 157.300\n",
      "Episode: 450, Score: 0.489, average time cost: 133.200\n",
      "Episode: 460, Score: 0.480, average time cost: 100.800\n",
      "Episode: 470, Score: 0.396, average time cost: 127.300\n",
      "Episode: 480, Score: 0.146, average time cost: 150.000\n",
      "Episode: 490, Score: 0.481, average time cost: 137.400\n",
      "Episode: 500, Score: 0.393, average time cost: 129.900\n"
     ]
    },
    {
     "data": {
      "text/plain": [
       "Text(0.5,1,'average time cost')"
      ]
     },
     "execution_count": 7,
     "metadata": {},
     "output_type": "execute_result"
    },
    {
     "data": {
      "image/png": "[encoded data removed]",
      "text/plain": [
       "<matplotlib.figure.Figure at 0x1176db29f98>"
      ]
     },
     "metadata": {
      "needs_background": "light"
     },
     "output_type": "display_data"
    },
    {
     "data": {
      "image/png": "[encoded data removed]",
      "text/plain": [
       "<matplotlib.figure.Figure at 0x11772799f28>"
      ]
     },
     "metadata": {
      "needs_background": "light"
     },
     "output_type": "display_data"
    }
   ],
   "source": [
    "replays = deque(maxlen=10000)\n",
    "gamma = 0.99\n",
    "eps_high = 0.3\n",
    "eps_low = 0.01\n",
    "num_episodes = 500\n",
    "LR = 0.001\n",
    "batch_size = 10\n",
    "log_step = 10\n",
    "\n",
    "net = Sequential(\n",
    "    Linear(2, 32),\n",
    "    Tanh(),\n",
    "    Linear(32,64),\n",
    "    Tanh(),\n",
    "    Linear(64,3)\n",
    ")\n",
    "agent = DQNAgent(net,1,gamma,LR)\n",
    "\n",
    "score_list = []\n",
    "time_cost_list = []\n",
    "\n",
    "for episode in range(num_episodes):\n",
    "    agent.eps = eps_high - (eps_high-eps_low)*(episode/num_episodes)\n",
    "    \n",
    "    s0 = env.reset()\n",
    "    s = env.reset()\n",
    "    done = False\n",
    "    max_pos = -100\n",
    "    t = 0\n",
    "    \n",
    "    while not done:\n",
    "        t += 1\n",
    "        max_pos = max(s0[0],max_pos)\n",
    "        a0 = agent.sample(s0)\n",
    "        s1, r1, done, _ = env.step(a0)\n",
    "        \n",
    "        # 使用max pos作为奖励\n",
    "        if done:\n",
    "            if max_pos >= 0.5:\n",
    "                # 到达max pos的时间越早越好\n",
    "                r1 = (max_pos+0.5)+100*(1-t/200)\n",
    "            else:\n",
    "                r1 = (max_pos+0.5)\n",
    "        \n",
    "        \n",
    "        # 最终状态将在比较大的程度上影响训练，\n",
    "        if not done:\n",
    "            replay_rate = 0.1\n",
    "        else:\n",
    "            replay_rate = 1\n",
    "        if random.random()<replay_rate:\n",
    "            replays.append((s0.copy(),a0,r1,s1.copy(),done))\n",
    "        \n",
    "        s0 = s1\n",
    "    \n",
    "        if replays.__len__()>=batch_size:\n",
    "            batch = random.sample(replays,k=batch_size)\n",
    "            agent.learn(batch)\n",
    "        \n",
    "    if (episode+1)%log_step==0:\n",
    "        score,t = evaluate(agent,env,10)\n",
    "        score_list.append(score)\n",
    "        time_cost_list.append(t)\n",
    "        print(\"Episode: %d, Score: %.3f, average time cost: %.3f\"%(episode+1,score,t))\n",
    "\n",
    "plt.figure()\n",
    "plt.plot(score_list)\n",
    "plt.title('score')\n",
    "plt.figure()\n",
    "plt.plot(time_cost_list)\n",
    "plt.title('average time cost')"
   ]
  },
  {
   "cell_type": "code",
   "execution_count": null,
   "metadata": {},
   "outputs": [],
   "source": []
  }
 ],
 "metadata": {
  "kernelspec": {
   "display_name": "Python 3",
   "language": "python",
   "name": "python3"
  },
  "language_info": {
   "codemirror_mode": {
    "name": "ipython",
    "version": 3
   },
   "file_extension": ".py",
   "mimetype": "text/x-python",
   "name": "python",
   "nbconvert_exporter": "python",
   "pygments_lexer": "ipython3",
   "version": "3.6.4"
  }
 },
 "nbformat": 4,
 "nbformat_minor": 2
}
